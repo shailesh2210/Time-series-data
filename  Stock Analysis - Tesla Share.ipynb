{
 "cells": [
  {
   "cell_type": "markdown",
   "id": "2dcb7d62",
   "metadata": {},
   "source": [
    "## Time Series EDA"
   ]
  },
  {
   "cell_type": "code",
   "execution_count": 2,
   "id": "ea8c1f13",
   "metadata": {},
   "outputs": [
    {
     "name": "stdout",
     "output_type": "stream",
     "text": [
      "Requirement already satisfied: pandas-datareader in c:\\users\\shail\\appdata\\local\\programs\\python\\python310\\lib\\site-packages (0.10.0)\n",
      "Requirement already satisfied: lxml in c:\\users\\shail\\appdata\\local\\programs\\python\\python310\\lib\\site-packages (from pandas-datareader) (4.8.0)\n",
      "Requirement already satisfied: requests>=2.19.0 in c:\\users\\shail\\appdata\\local\\programs\\python\\python310\\lib\\site-packages (from pandas-datareader) (2.27.1)\n",
      "Requirement already satisfied: pandas>=0.23 in c:\\users\\shail\\appdata\\local\\programs\\python\\python310\\lib\\site-packages (from pandas-datareader) (1.3.5)\n",
      "Requirement already satisfied: numpy>=1.21.0 in c:\\users\\shail\\appdata\\local\\programs\\python\\python310\\lib\\site-packages (from pandas>=0.23->pandas-datareader) (1.22.1)\n",
      "Requirement already satisfied: python-dateutil>=2.7.3 in c:\\users\\shail\\appdata\\local\\programs\\python\\python310\\lib\\site-packages (from pandas>=0.23->pandas-datareader) (2.8.2)\n",
      "Requirement already satisfied: pytz>=2017.3 in c:\\users\\shail\\appdata\\local\\programs\\python\\python310\\lib\\site-packages (from pandas>=0.23->pandas-datareader) (2021.3)\n",
      "Requirement already satisfied: urllib3<1.27,>=1.21.1 in c:\\users\\shail\\appdata\\local\\programs\\python\\python310\\lib\\site-packages (from requests>=2.19.0->pandas-datareader) (1.26.8)\n",
      "Requirement already satisfied: charset-normalizer~=2.0.0 in c:\\users\\shail\\appdata\\local\\programs\\python\\python310\\lib\\site-packages (from requests>=2.19.0->pandas-datareader) (2.0.11)\n",
      "Requirement already satisfied: certifi>=2017.4.17 in c:\\users\\shail\\appdata\\local\\programs\\python\\python310\\lib\\site-packages (from requests>=2.19.0->pandas-datareader) (2021.10.8)\n",
      "Requirement already satisfied: idna<4,>=2.5 in c:\\users\\shail\\appdata\\local\\programs\\python\\python310\\lib\\site-packages (from requests>=2.19.0->pandas-datareader) (3.3)\n",
      "Requirement already satisfied: six>=1.5 in c:\\users\\shail\\appdata\\local\\programs\\python\\python310\\lib\\site-packages (from python-dateutil>=2.7.3->pandas>=0.23->pandas-datareader) (1.16.0)\n"
     ]
    },
    {
     "name": "stderr",
     "output_type": "stream",
     "text": [
      "\n",
      "[notice] A new release of pip available: 22.2.1 -> 22.2.2\n",
      "[notice] To update, run: python.exe -m pip install --upgrade pip\n"
     ]
    }
   ],
   "source": [
    "# install pandas data reader\n",
    "!pip install pandas-datareader"
   ]
  },
  {
   "cell_type": "code",
   "execution_count": 4,
   "id": "c80e039a",
   "metadata": {},
   "outputs": [
    {
     "name": "stderr",
     "output_type": "stream",
     "text": [
      "C:\\Users\\shail\\AppData\\Local\\Programs\\Python\\Python310\\lib\\site-packages\\requests\\__init__.py:102: RequestsDependencyWarning: urllib3 (1.26.8) or chardet (5.0.0)/charset_normalizer (2.0.11) doesn't match a supported version!\n",
      "  warnings.warn(\"urllib3 ({}) or chardet ({})/charset_normalizer ({}) doesn't match a supported \"\n"
     ]
    }
   ],
   "source": [
    "import pandas_datareader as pdr\n",
    "import pandas as pd\n",
    "from datetime import datetime"
   ]
  },
  {
   "cell_type": "code",
   "execution_count": 6,
   "id": "b6952f88",
   "metadata": {},
   "outputs": [],
   "source": [
    "data = pdr.get_data_yahoo(\"TSLA\")"
   ]
  },
  {
   "cell_type": "code",
   "execution_count": 7,
   "id": "9ce3209d",
   "metadata": {},
   "outputs": [
    {
     "data": {
      "text/plain": [
       "pandas.core.frame.DataFrame"
      ]
     },
     "execution_count": 7,
     "metadata": {},
     "output_type": "execute_result"
    }
   ],
   "source": [
    "type(data)"
   ]
  },
  {
   "cell_type": "code",
   "execution_count": 8,
   "id": "06305de3",
   "metadata": {},
   "outputs": [
    {
     "data": {
      "text/html": [
       "<div>\n",
       "<style scoped>\n",
       "    .dataframe tbody tr th:only-of-type {\n",
       "        vertical-align: middle;\n",
       "    }\n",
       "\n",
       "    .dataframe tbody tr th {\n",
       "        vertical-align: top;\n",
       "    }\n",
       "\n",
       "    .dataframe thead th {\n",
       "        text-align: right;\n",
       "    }\n",
       "</style>\n",
       "<table border=\"1\" class=\"dataframe\">\n",
       "  <thead>\n",
       "    <tr style=\"text-align: right;\">\n",
       "      <th></th>\n",
       "      <th>High</th>\n",
       "      <th>Low</th>\n",
       "      <th>Open</th>\n",
       "      <th>Close</th>\n",
       "      <th>Volume</th>\n",
       "      <th>Adj Close</th>\n",
       "    </tr>\n",
       "    <tr>\n",
       "      <th>Date</th>\n",
       "      <th></th>\n",
       "      <th></th>\n",
       "      <th></th>\n",
       "      <th></th>\n",
       "      <th></th>\n",
       "      <th></th>\n",
       "    </tr>\n",
       "  </thead>\n",
       "  <tbody>\n",
       "    <tr>\n",
       "      <th>2017-09-15</th>\n",
       "      <td>25.333332</td>\n",
       "      <td>24.846666</td>\n",
       "      <td>24.967333</td>\n",
       "      <td>25.320667</td>\n",
       "      <td>81307500.0</td>\n",
       "      <td>25.320667</td>\n",
       "    </tr>\n",
       "    <tr>\n",
       "      <th>2017-09-18</th>\n",
       "      <td>25.974001</td>\n",
       "      <td>25.178667</td>\n",
       "      <td>25.350000</td>\n",
       "      <td>25.666668</td>\n",
       "      <td>107820000.0</td>\n",
       "      <td>25.666668</td>\n",
       "    </tr>\n",
       "    <tr>\n",
       "      <th>2017-09-19</th>\n",
       "      <td>25.492666</td>\n",
       "      <td>24.904667</td>\n",
       "      <td>25.333332</td>\n",
       "      <td>25.006666</td>\n",
       "      <td>96778500.0</td>\n",
       "      <td>25.006666</td>\n",
       "    </tr>\n",
       "    <tr>\n",
       "      <th>2017-09-20</th>\n",
       "      <td>25.216667</td>\n",
       "      <td>24.738001</td>\n",
       "      <td>24.866667</td>\n",
       "      <td>24.927334</td>\n",
       "      <td>73786500.0</td>\n",
       "      <td>24.927334</td>\n",
       "    </tr>\n",
       "    <tr>\n",
       "      <th>2017-09-21</th>\n",
       "      <td>25.122000</td>\n",
       "      <td>24.300667</td>\n",
       "      <td>24.993334</td>\n",
       "      <td>24.431999</td>\n",
       "      <td>69273000.0</td>\n",
       "      <td>24.431999</td>\n",
       "    </tr>\n",
       "  </tbody>\n",
       "</table>\n",
       "</div>"
      ],
      "text/plain": [
       "                 High        Low       Open      Close       Volume  Adj Close\n",
       "Date                                                                          \n",
       "2017-09-15  25.333332  24.846666  24.967333  25.320667   81307500.0  25.320667\n",
       "2017-09-18  25.974001  25.178667  25.350000  25.666668  107820000.0  25.666668\n",
       "2017-09-19  25.492666  24.904667  25.333332  25.006666   96778500.0  25.006666\n",
       "2017-09-20  25.216667  24.738001  24.866667  24.927334   73786500.0  24.927334\n",
       "2017-09-21  25.122000  24.300667  24.993334  24.431999   69273000.0  24.431999"
      ]
     },
     "execution_count": 8,
     "metadata": {},
     "output_type": "execute_result"
    }
   ],
   "source": [
    "data.head()"
   ]
  },
  {
   "cell_type": "code",
   "execution_count": 13,
   "id": "79b86b04",
   "metadata": {},
   "outputs": [
    {
     "data": {
      "text/plain": [
       "<AxesSubplot:xlabel='Date'>"
      ]
     },
     "execution_count": 13,
     "metadata": {},
     "output_type": "execute_result"
    },
    {
     "data": {
      "image/png": "[encoded data removed]",
      "text/plain": [
       "<Figure size 864x288 with 1 Axes>"
      ]
     },
     "metadata": {
      "needs_background": "light"
     },
     "output_type": "display_data"
    }
   ],
   "source": [
    "data[\"High\"].plot(figsize=(12,4))"
   ]
  },
  {
   "cell_type": "code",
   "execution_count": 17,
   "id": "cbcda53a",
   "metadata": {},
   "outputs": [
    {
     "data": {
      "text/plain": [
       "<AxesSubplot:xlabel='Date'>"
      ]
     },
     "execution_count": 17,
     "metadata": {},
     "output_type": "execute_result"
    },
    {
     "data": {
      "image/png": "[encoded data removed]",
      "text/plain": [
       "<Figure size 864x288 with 1 Axes>"
      ]
     },
     "metadata": {
      "needs_background": "light"
     },
     "output_type": "display_data"
    }
   ],
   "source": [
    "# xlimit \n",
    "data[\"High\"].plot(xlim=[\"2020-01-01\", \"2021-01-01\"],figsize=(12, 4))"
   ]
  },
  {
   "cell_type": "code",
   "execution_count": 19,
   "id": "980cef35",
   "metadata": {},
   "outputs": [
    {
     "data": {
      "text/plain": [
       "<AxesSubplot:xlabel='Date'>"
      ]
     },
     "execution_count": 19,
     "metadata": {},
     "output_type": "execute_result"
    },
    {
     "data": {
      "image/png": "[encoded data removed]",
      "text/plain": [
       "<Figure size 864x288 with 1 Axes>"
      ]
     },
     "metadata": {
      "needs_background": "light"
     },
     "output_type": "display_data"
    }
   ],
   "source": [
    "# ylimit and coloring\n",
    "data[\"High\"].plot(xlim=[\"2020-01-01\", \"2021-01-01\"],ylim=[0, 280], c=\"green\", figsize=(12, 4))"
   ]
  },
  {
   "cell_type": "code",
   "execution_count": 23,
   "id": "d2be8f6d",
   "metadata": {},
   "outputs": [
    {
     "data": {
      "text/plain": [
       "<AxesSubplot:xlabel='Date'>"
      ]
     },
     "execution_count": 23,
     "metadata": {},
     "output_type": "execute_result"
    },
    {
     "data": {
      "image/png": "[encoded data removed]",
      "text/plain": [
       "<Figure size 864x288 with 1 Axes>"
      ]
     },
     "metadata": {
      "needs_background": "light"
     },
     "output_type": "display_data"
    }
   ],
   "source": [
    "# last 10 months stock\n",
    "data[\"High\"].plot(xlim=[\"2021-12-01\", \"2022-09-14\"], ylim=[200, 430], figsize=(12, 4),)"
   ]
  },
  {
   "cell_type": "code",
   "execution_count": 24,
   "id": "9150b6c8",
   "metadata": {},
   "outputs": [
    {
     "data": {
      "text/plain": [
       "DatetimeIndex(['2017-09-15', '2017-09-18', '2017-09-19', '2017-09-20',\n",
       "               '2017-09-21', '2017-09-22', '2017-09-25', '2017-09-26',\n",
       "               '2017-09-27', '2017-09-28',\n",
       "               ...\n",
       "               '2022-08-31', '2022-09-01', '2022-09-02', '2022-09-06',\n",
       "               '2022-09-07', '2022-09-08', '2022-09-09', '2022-09-12',\n",
       "               '2022-09-13', '2022-09-14'],\n",
       "              dtype='datetime64[ns]', name='Date', length=1258, freq=None)"
      ]
     },
     "execution_count": 24,
     "metadata": {},
     "output_type": "execute_result"
    }
   ],
   "source": [
    "data.index"
   ]
  },
  {
   "cell_type": "code",
   "execution_count": 27,
   "id": "d6f59e23",
   "metadata": {},
   "outputs": [],
   "source": [
    "share_open = data.loc[\"2021-12-01\":\"2022-09-14\"][\"Open\"]"
   ]
  },
  {
   "cell_type": "code",
   "execution_count": 28,
   "id": "7af5ef9e",
   "metadata": {},
   "outputs": [
    {
     "data": {
      "text/plain": [
       "Date\n",
       "2021-12-01    386.899994\n",
       "2021-12-02    366.353333\n",
       "2021-12-03    361.596680\n",
       "2021-12-06    333.836670\n",
       "2021-12-07    348.066681\n",
       "                 ...    \n",
       "2022-09-08    281.299988\n",
       "2022-09-09    291.670013\n",
       "2022-09-12    300.720001\n",
       "2022-09-13    292.899994\n",
       "2022-09-14    292.239990\n",
       "Name: Open, Length: 198, dtype: float64"
      ]
     },
     "execution_count": 28,
     "metadata": {},
     "output_type": "execute_result"
    }
   ],
   "source": [
    "share_open"
   ]
  },
  {
   "cell_type": "code",
   "execution_count": 29,
   "id": "0e40ea42",
   "metadata": {},
   "outputs": [],
   "source": [
    "index = data.loc[\"2021-12-01\":\"2022-09-14\"].index"
   ]
  },
  {
   "cell_type": "code",
   "execution_count": 30,
   "id": "9a41d7c4",
   "metadata": {},
   "outputs": [
    {
     "data": {
      "text/plain": [
       "DatetimeIndex(['2021-12-01', '2021-12-02', '2021-12-03', '2021-12-06',\n",
       "               '2021-12-07', '2021-12-08', '2021-12-09', '2021-12-10',\n",
       "               '2021-12-13', '2021-12-14',\n",
       "               ...\n",
       "               '2022-08-31', '2022-09-01', '2022-09-02', '2022-09-06',\n",
       "               '2022-09-07', '2022-09-08', '2022-09-09', '2022-09-12',\n",
       "               '2022-09-13', '2022-09-14'],\n",
       "              dtype='datetime64[ns]', name='Date', length=198, freq=None)"
      ]
     },
     "execution_count": 30,
     "metadata": {},
     "output_type": "execute_result"
    }
   ],
   "source": [
    "index"
   ]
  },
  {
   "cell_type": "code",
   "execution_count": 31,
   "id": "5e4e854f",
   "metadata": {},
   "outputs": [],
   "source": [
    "import seaborn as sns\n",
    "import matplotlib.pyplot as plt\n",
    "%matplotlib inline"
   ]
  },
  {
   "cell_type": "code",
   "execution_count": 37,
   "id": "ed2bbb0e",
   "metadata": {},
   "outputs": [
    {
     "data": {
      "text/plain": [
       "[<matplotlib.lines.Line2D at 0x228c3e445e0>]"
      ]
     },
     "execution_count": 37,
     "metadata": {},
     "output_type": "execute_result"
    },
    {
     "data": {
      "image/png": "[encoded data removed]",
      "text/plain": [
       "<Figure size 864x288 with 1 Axes>"
      ]
     },
     "metadata": {
      "needs_background": "light"
     },
     "output_type": "display_data"
    }
   ],
   "source": [
    "figure , axis=plt.subplots(figsize=(12,4))\n",
    "plt.tight_layout()\n",
    "# preventing overlapping the dates\n",
    "figure.autofmt_xdate() \n",
    "axis.plot(index, share_open)"
   ]
  },
  {
   "cell_type": "code",
   "execution_count": 38,
   "id": "eb7abdf3",
   "metadata": {},
   "outputs": [],
   "source": [
    "# datetime index\n",
    "data = data.reset_index()"
   ]
  },
  {
   "cell_type": "code",
   "execution_count": 39,
   "id": "b17bfb56",
   "metadata": {},
   "outputs": [
    {
     "data": {
      "text/html": [
       "<div>\n",
       "<style scoped>\n",
       "    .dataframe tbody tr th:only-of-type {\n",
       "        vertical-align: middle;\n",
       "    }\n",
       "\n",
       "    .dataframe tbody tr th {\n",
       "        vertical-align: top;\n",
       "    }\n",
       "\n",
       "    .dataframe thead th {\n",
       "        text-align: right;\n",
       "    }\n",
       "</style>\n",
       "<table border=\"1\" class=\"dataframe\">\n",
       "  <thead>\n",
       "    <tr style=\"text-align: right;\">\n",
       "      <th></th>\n",
       "      <th>Date</th>\n",
       "      <th>High</th>\n",
       "      <th>Low</th>\n",
       "      <th>Open</th>\n",
       "      <th>Close</th>\n",
       "      <th>Volume</th>\n",
       "      <th>Adj Close</th>\n",
       "    </tr>\n",
       "  </thead>\n",
       "  <tbody>\n",
       "    <tr>\n",
       "      <th>0</th>\n",
       "      <td>2017-09-15</td>\n",
       "      <td>25.333332</td>\n",
       "      <td>24.846666</td>\n",
       "      <td>24.967333</td>\n",
       "      <td>25.320667</td>\n",
       "      <td>81307500.0</td>\n",
       "      <td>25.320667</td>\n",
       "    </tr>\n",
       "    <tr>\n",
       "      <th>1</th>\n",
       "      <td>2017-09-18</td>\n",
       "      <td>25.974001</td>\n",
       "      <td>25.178667</td>\n",
       "      <td>25.350000</td>\n",
       "      <td>25.666668</td>\n",
       "      <td>107820000.0</td>\n",
       "      <td>25.666668</td>\n",
       "    </tr>\n",
       "  </tbody>\n",
       "</table>\n",
       "</div>"
      ],
      "text/plain": [
       "        Date       High        Low       Open      Close       Volume  \\\n",
       "0 2017-09-15  25.333332  24.846666  24.967333  25.320667   81307500.0   \n",
       "1 2017-09-18  25.974001  25.178667  25.350000  25.666668  107820000.0   \n",
       "\n",
       "   Adj Close  \n",
       "0  25.320667  \n",
       "1  25.666668  "
      ]
     },
     "execution_count": 39,
     "metadata": {},
     "output_type": "execute_result"
    }
   ],
   "source": [
    "data.head(2)"
   ]
  },
  {
   "cell_type": "code",
   "execution_count": 40,
   "id": "2d3bcc1a",
   "metadata": {},
   "outputs": [
    {
     "name": "stdout",
     "output_type": "stream",
     "text": [
      "<class 'pandas.core.frame.DataFrame'>\n",
      "RangeIndex: 1258 entries, 0 to 1257\n",
      "Data columns (total 7 columns):\n",
      " #   Column     Non-Null Count  Dtype         \n",
      "---  ------     --------------  -----         \n",
      " 0   Date       1258 non-null   datetime64[ns]\n",
      " 1   High       1258 non-null   float64       \n",
      " 2   Low        1258 non-null   float64       \n",
      " 3   Open       1258 non-null   float64       \n",
      " 4   Close      1258 non-null   float64       \n",
      " 5   Volume     1258 non-null   float64       \n",
      " 6   Adj Close  1258 non-null   float64       \n",
      "dtypes: datetime64[ns](1), float64(6)\n",
      "memory usage: 68.9 KB\n"
     ]
    }
   ],
   "source": [
    "data.info()"
   ]
  },
  {
   "cell_type": "code",
   "execution_count": 41,
   "id": "17a77733",
   "metadata": {},
   "outputs": [
    {
     "data": {
      "text/plain": [
       "0      2017-09-15\n",
       "1      2017-09-18\n",
       "2      2017-09-19\n",
       "3      2017-09-20\n",
       "4      2017-09-21\n",
       "          ...    \n",
       "1253   2022-09-08\n",
       "1254   2022-09-09\n",
       "1255   2022-09-12\n",
       "1256   2022-09-13\n",
       "1257   2022-09-14\n",
       "Name: Date, Length: 1258, dtype: datetime64[ns]"
      ]
     },
     "execution_count": 41,
     "metadata": {},
     "output_type": "execute_result"
    }
   ],
   "source": [
    "pd.to_datetime(data[\"Date\"])"
   ]
  },
  {
   "cell_type": "code",
   "execution_count": 42,
   "id": "6290b2f4",
   "metadata": {},
   "outputs": [],
   "source": [
    "data = data.set_index(\"Date\", drop=True)"
   ]
  },
  {
   "cell_type": "code",
   "execution_count": 43,
   "id": "f0deef79",
   "metadata": {},
   "outputs": [
    {
     "data": {
      "text/html": [
       "<div>\n",
       "<style scoped>\n",
       "    .dataframe tbody tr th:only-of-type {\n",
       "        vertical-align: middle;\n",
       "    }\n",
       "\n",
       "    .dataframe tbody tr th {\n",
       "        vertical-align: top;\n",
       "    }\n",
       "\n",
       "    .dataframe thead th {\n",
       "        text-align: right;\n",
       "    }\n",
       "</style>\n",
       "<table border=\"1\" class=\"dataframe\">\n",
       "  <thead>\n",
       "    <tr style=\"text-align: right;\">\n",
       "      <th></th>\n",
       "      <th>High</th>\n",
       "      <th>Low</th>\n",
       "      <th>Open</th>\n",
       "      <th>Close</th>\n",
       "      <th>Volume</th>\n",
       "      <th>Adj Close</th>\n",
       "    </tr>\n",
       "    <tr>\n",
       "      <th>Date</th>\n",
       "      <th></th>\n",
       "      <th></th>\n",
       "      <th></th>\n",
       "      <th></th>\n",
       "      <th></th>\n",
       "      <th></th>\n",
       "    </tr>\n",
       "  </thead>\n",
       "  <tbody>\n",
       "    <tr>\n",
       "      <th>2017-09-15</th>\n",
       "      <td>25.333332</td>\n",
       "      <td>24.846666</td>\n",
       "      <td>24.967333</td>\n",
       "      <td>25.320667</td>\n",
       "      <td>81307500.0</td>\n",
       "      <td>25.320667</td>\n",
       "    </tr>\n",
       "    <tr>\n",
       "      <th>2017-09-18</th>\n",
       "      <td>25.974001</td>\n",
       "      <td>25.178667</td>\n",
       "      <td>25.350000</td>\n",
       "      <td>25.666668</td>\n",
       "      <td>107820000.0</td>\n",
       "      <td>25.666668</td>\n",
       "    </tr>\n",
       "  </tbody>\n",
       "</table>\n",
       "</div>"
      ],
      "text/plain": [
       "                 High        Low       Open      Close       Volume  Adj Close\n",
       "Date                                                                          \n",
       "2017-09-15  25.333332  24.846666  24.967333  25.320667   81307500.0  25.320667\n",
       "2017-09-18  25.974001  25.178667  25.350000  25.666668  107820000.0  25.666668"
      ]
     },
     "execution_count": 43,
     "metadata": {},
     "output_type": "execute_result"
    }
   ],
   "source": [
    "data.head(2)"
   ]
  },
  {
   "cell_type": "code",
   "execution_count": 44,
   "id": "4aee2923",
   "metadata": {},
   "outputs": [
    {
     "data": {
      "text/plain": [
       "datetime.datetime(2021, 12, 11, 0, 0)"
      ]
     },
     "execution_count": 44,
     "metadata": {},
     "output_type": "execute_result"
    }
   ],
   "source": [
    "datetime(2021,12, 11)"
   ]
  },
  {
   "cell_type": "code",
   "execution_count": 51,
   "id": "0637fc71",
   "metadata": {},
   "outputs": [],
   "source": [
    "date = datetime(2022,9, 15)"
   ]
  },
  {
   "cell_type": "code",
   "execution_count": 52,
   "id": "dff78ae6",
   "metadata": {},
   "outputs": [
    {
     "data": {
      "text/plain": [
       "9"
      ]
     },
     "execution_count": 52,
     "metadata": {},
     "output_type": "execute_result"
    }
   ],
   "source": [
    "date.month"
   ]
  },
  {
   "cell_type": "code",
   "execution_count": 53,
   "id": "7893d0e0",
   "metadata": {},
   "outputs": [
    {
     "data": {
      "text/plain": [
       "3"
      ]
     },
     "execution_count": 53,
     "metadata": {},
     "output_type": "execute_result"
    }
   ],
   "source": [
    "date.weekday()"
   ]
  },
  {
   "cell_type": "code",
   "execution_count": 54,
   "id": "bfa84f55",
   "metadata": {},
   "outputs": [
    {
     "data": {
      "text/plain": [
       "15"
      ]
     },
     "execution_count": 54,
     "metadata": {},
     "output_type": "execute_result"
    }
   ],
   "source": [
    "date.day"
   ]
  },
  {
   "cell_type": "code",
   "execution_count": 55,
   "id": "1ef44b5b",
   "metadata": {},
   "outputs": [
    {
     "data": {
      "text/plain": [
       "2022"
      ]
     },
     "execution_count": 55,
     "metadata": {},
     "output_type": "execute_result"
    }
   ],
   "source": [
    "date.year"
   ]
  },
  {
   "cell_type": "markdown",
   "id": "002df30a",
   "metadata": {},
   "source": [
    "## Time Resampling"
   ]
  },
  {
   "cell_type": "code",
   "execution_count": 56,
   "id": "87a84990",
   "metadata": {},
   "outputs": [
    {
     "data": {
      "text/html": [
       "<div>\n",
       "<style scoped>\n",
       "    .dataframe tbody tr th:only-of-type {\n",
       "        vertical-align: middle;\n",
       "    }\n",
       "\n",
       "    .dataframe tbody tr th {\n",
       "        vertical-align: top;\n",
       "    }\n",
       "\n",
       "    .dataframe thead th {\n",
       "        text-align: right;\n",
       "    }\n",
       "</style>\n",
       "<table border=\"1\" class=\"dataframe\">\n",
       "  <thead>\n",
       "    <tr style=\"text-align: right;\">\n",
       "      <th></th>\n",
       "      <th>High</th>\n",
       "      <th>Low</th>\n",
       "      <th>Open</th>\n",
       "      <th>Close</th>\n",
       "      <th>Volume</th>\n",
       "      <th>Adj Close</th>\n",
       "    </tr>\n",
       "    <tr>\n",
       "      <th>Date</th>\n",
       "      <th></th>\n",
       "      <th></th>\n",
       "      <th></th>\n",
       "      <th></th>\n",
       "      <th></th>\n",
       "      <th></th>\n",
       "    </tr>\n",
       "  </thead>\n",
       "  <tbody>\n",
       "    <tr>\n",
       "      <th>2017-09-15</th>\n",
       "      <td>25.333332</td>\n",
       "      <td>24.846666</td>\n",
       "      <td>24.967333</td>\n",
       "      <td>25.320667</td>\n",
       "      <td>81307500.0</td>\n",
       "      <td>25.320667</td>\n",
       "    </tr>\n",
       "    <tr>\n",
       "      <th>2017-09-18</th>\n",
       "      <td>25.974001</td>\n",
       "      <td>25.178667</td>\n",
       "      <td>25.350000</td>\n",
       "      <td>25.666668</td>\n",
       "      <td>107820000.0</td>\n",
       "      <td>25.666668</td>\n",
       "    </tr>\n",
       "    <tr>\n",
       "      <th>2017-09-19</th>\n",
       "      <td>25.492666</td>\n",
       "      <td>24.904667</td>\n",
       "      <td>25.333332</td>\n",
       "      <td>25.006666</td>\n",
       "      <td>96778500.0</td>\n",
       "      <td>25.006666</td>\n",
       "    </tr>\n",
       "    <tr>\n",
       "      <th>2017-09-20</th>\n",
       "      <td>25.216667</td>\n",
       "      <td>24.738001</td>\n",
       "      <td>24.866667</td>\n",
       "      <td>24.927334</td>\n",
       "      <td>73786500.0</td>\n",
       "      <td>24.927334</td>\n",
       "    </tr>\n",
       "    <tr>\n",
       "      <th>2017-09-21</th>\n",
       "      <td>25.122000</td>\n",
       "      <td>24.300667</td>\n",
       "      <td>24.993334</td>\n",
       "      <td>24.431999</td>\n",
       "      <td>69273000.0</td>\n",
       "      <td>24.431999</td>\n",
       "    </tr>\n",
       "  </tbody>\n",
       "</table>\n",
       "</div>"
      ],
      "text/plain": [
       "                 High        Low       Open      Close       Volume  Adj Close\n",
       "Date                                                                          \n",
       "2017-09-15  25.333332  24.846666  24.967333  25.320667   81307500.0  25.320667\n",
       "2017-09-18  25.974001  25.178667  25.350000  25.666668  107820000.0  25.666668\n",
       "2017-09-19  25.492666  24.904667  25.333332  25.006666   96778500.0  25.006666\n",
       "2017-09-20  25.216667  24.738001  24.866667  24.927334   73786500.0  24.927334\n",
       "2017-09-21  25.122000  24.300667  24.993334  24.431999   69273000.0  24.431999"
      ]
     },
     "execution_count": 56,
     "metadata": {},
     "output_type": "execute_result"
    }
   ],
   "source": [
    "data.head()"
   ]
  },
  {
   "cell_type": "code",
   "execution_count": 57,
   "id": "166fe132",
   "metadata": {},
   "outputs": [
    {
     "data": {
      "text/html": [
       "<div>\n",
       "<style scoped>\n",
       "    .dataframe tbody tr th:only-of-type {\n",
       "        vertical-align: middle;\n",
       "    }\n",
       "\n",
       "    .dataframe tbody tr th {\n",
       "        vertical-align: top;\n",
       "    }\n",
       "\n",
       "    .dataframe thead th {\n",
       "        text-align: right;\n",
       "    }\n",
       "</style>\n",
       "<table border=\"1\" class=\"dataframe\">\n",
       "  <thead>\n",
       "    <tr style=\"text-align: right;\">\n",
       "      <th></th>\n",
       "      <th>High</th>\n",
       "      <th>Low</th>\n",
       "      <th>Open</th>\n",
       "      <th>Close</th>\n",
       "      <th>Volume</th>\n",
       "      <th>Adj Close</th>\n",
       "    </tr>\n",
       "    <tr>\n",
       "      <th>Date</th>\n",
       "      <th></th>\n",
       "      <th></th>\n",
       "      <th></th>\n",
       "      <th></th>\n",
       "      <th></th>\n",
       "      <th></th>\n",
       "    </tr>\n",
       "  </thead>\n",
       "  <tbody>\n",
       "    <tr>\n",
       "      <th>2017-12-31</th>\n",
       "      <td>20.297333</td>\n",
       "      <td>19.508667</td>\n",
       "      <td>19.966667</td>\n",
       "      <td>19.950666</td>\n",
       "      <td>48661500.0</td>\n",
       "      <td>19.950666</td>\n",
       "    </tr>\n",
       "    <tr>\n",
       "      <th>2018-12-31</th>\n",
       "      <td>17.355333</td>\n",
       "      <td>16.306000</td>\n",
       "      <td>16.851999</td>\n",
       "      <td>16.704000</td>\n",
       "      <td>46210500.0</td>\n",
       "      <td>16.704000</td>\n",
       "    </tr>\n",
       "    <tr>\n",
       "      <th>2019-12-31</th>\n",
       "      <td>12.445333</td>\n",
       "      <td>11.799333</td>\n",
       "      <td>12.073333</td>\n",
       "      <td>11.931333</td>\n",
       "      <td>36984000.0</td>\n",
       "      <td>11.931333</td>\n",
       "    </tr>\n",
       "    <tr>\n",
       "      <th>2020-12-31</th>\n",
       "      <td>26.990667</td>\n",
       "      <td>23.367332</td>\n",
       "      <td>24.980000</td>\n",
       "      <td>24.081333</td>\n",
       "      <td>52073100.0</td>\n",
       "      <td>24.081333</td>\n",
       "    </tr>\n",
       "    <tr>\n",
       "      <th>2021-12-31</th>\n",
       "      <td>188.736664</td>\n",
       "      <td>179.830002</td>\n",
       "      <td>184.183334</td>\n",
       "      <td>187.666672</td>\n",
       "      <td>29401800.0</td>\n",
       "      <td>187.666672</td>\n",
       "    </tr>\n",
       "    <tr>\n",
       "      <th>2022-12-31</th>\n",
       "      <td>217.973328</td>\n",
       "      <td>206.856674</td>\n",
       "      <td>207.949997</td>\n",
       "      <td>209.386673</td>\n",
       "      <td>41864700.0</td>\n",
       "      <td>209.386673</td>\n",
       "    </tr>\n",
       "  </tbody>\n",
       "</table>\n",
       "</div>"
      ],
      "text/plain": [
       "                  High         Low        Open       Close      Volume  \\\n",
       "Date                                                                     \n",
       "2017-12-31   20.297333   19.508667   19.966667   19.950666  48661500.0   \n",
       "2018-12-31   17.355333   16.306000   16.851999   16.704000  46210500.0   \n",
       "2019-12-31   12.445333   11.799333   12.073333   11.931333  36984000.0   \n",
       "2020-12-31   26.990667   23.367332   24.980000   24.081333  52073100.0   \n",
       "2021-12-31  188.736664  179.830002  184.183334  187.666672  29401800.0   \n",
       "2022-12-31  217.973328  206.856674  207.949997  209.386673  41864700.0   \n",
       "\n",
       "             Adj Close  \n",
       "Date                    \n",
       "2017-12-31   19.950666  \n",
       "2018-12-31   16.704000  \n",
       "2019-12-31   11.931333  \n",
       "2020-12-31   24.081333  \n",
       "2021-12-31  187.666672  \n",
       "2022-12-31  209.386673  "
      ]
     },
     "execution_count": 57,
     "metadata": {},
     "output_type": "execute_result"
    }
   ],
   "source": [
    "data.resample(rule=\"A\").min()"
   ]
  },
  {
   "cell_type": "code",
   "execution_count": 58,
   "id": "d62b06e4",
   "metadata": {},
   "outputs": [
    {
     "data": {
      "text/html": [
       "<div>\n",
       "<style scoped>\n",
       "    .dataframe tbody tr th:only-of-type {\n",
       "        vertical-align: middle;\n",
       "    }\n",
       "\n",
       "    .dataframe tbody tr th {\n",
       "        vertical-align: top;\n",
       "    }\n",
       "\n",
       "    .dataframe thead th {\n",
       "        text-align: right;\n",
       "    }\n",
       "</style>\n",
       "<table border=\"1\" class=\"dataframe\">\n",
       "  <thead>\n",
       "    <tr style=\"text-align: right;\">\n",
       "      <th></th>\n",
       "      <th>High</th>\n",
       "      <th>Low</th>\n",
       "      <th>Open</th>\n",
       "      <th>Close</th>\n",
       "      <th>Volume</th>\n",
       "      <th>Adj Close</th>\n",
       "    </tr>\n",
       "    <tr>\n",
       "      <th>Date</th>\n",
       "      <th></th>\n",
       "      <th></th>\n",
       "      <th></th>\n",
       "      <th></th>\n",
       "      <th></th>\n",
       "      <th></th>\n",
       "    </tr>\n",
       "  </thead>\n",
       "  <tbody>\n",
       "    <tr>\n",
       "      <th>2017-12-31</th>\n",
       "      <td>25.974001</td>\n",
       "      <td>25.178667</td>\n",
       "      <td>25.350000</td>\n",
       "      <td>25.666668</td>\n",
       "      <td>296871000.0</td>\n",
       "      <td>25.666668</td>\n",
       "    </tr>\n",
       "    <tr>\n",
       "      <th>2018-12-31</th>\n",
       "      <td>25.830667</td>\n",
       "      <td>24.474667</td>\n",
       "      <td>25.000000</td>\n",
       "      <td>25.304667</td>\n",
       "      <td>504745500.0</td>\n",
       "      <td>25.304667</td>\n",
       "    </tr>\n",
       "    <tr>\n",
       "      <th>2019-12-31</th>\n",
       "      <td>29.020666</td>\n",
       "      <td>28.423332</td>\n",
       "      <td>29.000000</td>\n",
       "      <td>28.729334</td>\n",
       "      <td>450091500.0</td>\n",
       "      <td>28.729334</td>\n",
       "    </tr>\n",
       "    <tr>\n",
       "      <th>2020-12-31</th>\n",
       "      <td>239.573334</td>\n",
       "      <td>230.373337</td>\n",
       "      <td>233.330002</td>\n",
       "      <td>235.223328</td>\n",
       "      <td>914082000.0</td>\n",
       "      <td>235.223328</td>\n",
       "    </tr>\n",
       "    <tr>\n",
       "      <th>2021-12-31</th>\n",
       "      <td>414.496674</td>\n",
       "      <td>405.666656</td>\n",
       "      <td>411.470001</td>\n",
       "      <td>409.970001</td>\n",
       "      <td>268189500.0</td>\n",
       "      <td>409.970001</td>\n",
       "    </tr>\n",
       "    <tr>\n",
       "      <th>2022-12-31</th>\n",
       "      <td>402.666656</td>\n",
       "      <td>378.679993</td>\n",
       "      <td>396.516663</td>\n",
       "      <td>399.926666</td>\n",
       "      <td>151565700.0</td>\n",
       "      <td>399.926666</td>\n",
       "    </tr>\n",
       "  </tbody>\n",
       "</table>\n",
       "</div>"
      ],
      "text/plain": [
       "                  High         Low        Open       Close       Volume  \\\n",
       "Date                                                                      \n",
       "2017-12-31   25.974001   25.178667   25.350000   25.666668  296871000.0   \n",
       "2018-12-31   25.830667   24.474667   25.000000   25.304667  504745500.0   \n",
       "2019-12-31   29.020666   28.423332   29.000000   28.729334  450091500.0   \n",
       "2020-12-31  239.573334  230.373337  233.330002  235.223328  914082000.0   \n",
       "2021-12-31  414.496674  405.666656  411.470001  409.970001  268189500.0   \n",
       "2022-12-31  402.666656  378.679993  396.516663  399.926666  151565700.0   \n",
       "\n",
       "             Adj Close  \n",
       "Date                    \n",
       "2017-12-31   25.666668  \n",
       "2018-12-31   25.304667  \n",
       "2019-12-31   28.729334  \n",
       "2020-12-31  235.223328  \n",
       "2021-12-31  409.970001  \n",
       "2022-12-31  399.926666  "
      ]
     },
     "execution_count": 58,
     "metadata": {},
     "output_type": "execute_result"
    }
   ],
   "source": [
    "data.resample(rule=\"A\").max()"
   ]
  },
  {
   "cell_type": "code",
   "execution_count": 59,
   "id": "5c81a35e",
   "metadata": {},
   "outputs": [
    {
     "data": {
      "text/plain": [
       "pandas.core.frame.DataFrame"
      ]
     },
     "execution_count": 59,
     "metadata": {},
     "output_type": "execute_result"
    }
   ],
   "source": [
    "type(data.resample(rule=\"A\").max())"
   ]
  },
  {
   "cell_type": "code",
   "execution_count": 60,
   "id": "11d6e445",
   "metadata": {},
   "outputs": [
    {
     "data": {
      "text/plain": [
       "<AxesSubplot:xlabel='Date'>"
      ]
     },
     "execution_count": 60,
     "metadata": {},
     "output_type": "execute_result"
    },
    {
     "data": {
      "image/png": "[encoded data removed]",
      "text/plain": [
       "<Figure size 432x288 with 1 Axes>"
      ]
     },
     "metadata": {
      "needs_background": "light"
     },
     "output_type": "display_data"
    }
   ],
   "source": [
    "# open share at high value in year\n",
    "\n",
    "# A = year end frequency\n",
    "data.resample(rule=\"A\").max()[\"Open\"].plot()"
   ]
  },
  {
   "cell_type": "code",
   "execution_count": 61,
   "id": "5afe6c83",
   "metadata": {},
   "outputs": [
    {
     "data": {
      "text/plain": [
       "<AxesSubplot:xlabel='Date'>"
      ]
     },
     "execution_count": 61,
     "metadata": {},
     "output_type": "execute_result"
    },
    {
     "data": {
      "image/png": "[encoded data removed]",
      "text/plain": [
       "<Figure size 432x288 with 1 Axes>"
      ]
     },
     "metadata": {
      "needs_background": "light"
     },
     "output_type": "display_data"
    }
   ],
   "source": [
    "data.resample(rule=\"A\").min()[\"Open\"].plot()"
   ]
  },
  {
   "cell_type": "code",
   "execution_count": 62,
   "id": "b2f8b6f2",
   "metadata": {},
   "outputs": [
    {
     "data": {
      "text/plain": [
       "<AxesSubplot:xlabel='Date'>"
      ]
     },
     "execution_count": 62,
     "metadata": {},
     "output_type": "execute_result"
    },
    {
     "data": {
      "image/png": "[encoded data removed]",
      "text/plain": [
       "<Figure size 432x288 with 1 Axes>"
      ]
     },
     "metadata": {
      "needs_background": "light"
     },
     "output_type": "display_data"
    }
   ],
   "source": [
    "data.resample(rule=\"A\").max()[\"Close\"].plot()"
   ]
  },
  {
   "cell_type": "code",
   "execution_count": 63,
   "id": "9f5a37f0",
   "metadata": {},
   "outputs": [
    {
     "data": {
      "text/plain": [
       "<AxesSubplot:xlabel='Date'>"
      ]
     },
     "execution_count": 63,
     "metadata": {},
     "output_type": "execute_result"
    },
    {
     "data": {
      "image/png": "[encoded data removed]",
      "text/plain": [
       "<Figure size 432x288 with 1 Axes>"
      ]
     },
     "metadata": {
      "needs_background": "light"
     },
     "output_type": "display_data"
    }
   ],
   "source": [
    "data.resample(rule=\"A\").min()[\"Close\"].plot()"
   ]
  },
  {
   "cell_type": "code",
   "execution_count": 66,
   "id": "c9830219",
   "metadata": {},
   "outputs": [
    {
     "data": {
      "text/html": [
       "<div>\n",
       "<style scoped>\n",
       "    .dataframe tbody tr th:only-of-type {\n",
       "        vertical-align: middle;\n",
       "    }\n",
       "\n",
       "    .dataframe tbody tr th {\n",
       "        vertical-align: top;\n",
       "    }\n",
       "\n",
       "    .dataframe thead th {\n",
       "        text-align: right;\n",
       "    }\n",
       "</style>\n",
       "<table border=\"1\" class=\"dataframe\">\n",
       "  <thead>\n",
       "    <tr style=\"text-align: right;\">\n",
       "      <th></th>\n",
       "      <th>High</th>\n",
       "      <th>Low</th>\n",
       "      <th>Open</th>\n",
       "      <th>Close</th>\n",
       "      <th>Volume</th>\n",
       "      <th>Adj Close</th>\n",
       "    </tr>\n",
       "    <tr>\n",
       "      <th>Date</th>\n",
       "      <th></th>\n",
       "      <th></th>\n",
       "      <th></th>\n",
       "      <th></th>\n",
       "      <th></th>\n",
       "      <th></th>\n",
       "    </tr>\n",
       "  </thead>\n",
       "  <tbody>\n",
       "    <tr>\n",
       "      <th>2017-07-01</th>\n",
       "      <td>22.850000</td>\n",
       "      <td>22.360001</td>\n",
       "      <td>22.658667</td>\n",
       "      <td>22.639999</td>\n",
       "      <td>69273000.0</td>\n",
       "      <td>22.639999</td>\n",
       "    </tr>\n",
       "    <tr>\n",
       "      <th>2017-10-01</th>\n",
       "      <td>20.297333</td>\n",
       "      <td>19.508667</td>\n",
       "      <td>19.966667</td>\n",
       "      <td>19.950666</td>\n",
       "      <td>48661500.0</td>\n",
       "      <td>19.950666</td>\n",
       "    </tr>\n",
       "    <tr>\n",
       "      <th>2018-01-01</th>\n",
       "      <td>17.912001</td>\n",
       "      <td>16.547333</td>\n",
       "      <td>17.099333</td>\n",
       "      <td>17.185333</td>\n",
       "      <td>48294000.0</td>\n",
       "      <td>17.185333</td>\n",
       "    </tr>\n",
       "    <tr>\n",
       "      <th>2018-04-01</th>\n",
       "      <td>17.355333</td>\n",
       "      <td>16.306000</td>\n",
       "      <td>16.851999</td>\n",
       "      <td>16.832001</td>\n",
       "      <td>58126500.0</td>\n",
       "      <td>16.832001</td>\n",
       "    </tr>\n",
       "    <tr>\n",
       "      <th>2018-07-01</th>\n",
       "      <td>17.889999</td>\n",
       "      <td>16.816668</td>\n",
       "      <td>17.340000</td>\n",
       "      <td>17.549334</td>\n",
       "      <td>54039000.0</td>\n",
       "      <td>17.549334</td>\n",
       "    </tr>\n",
       "    <tr>\n",
       "      <th>2018-10-01</th>\n",
       "      <td>17.457333</td>\n",
       "      <td>16.518000</td>\n",
       "      <td>17.016666</td>\n",
       "      <td>16.704000</td>\n",
       "      <td>46210500.0</td>\n",
       "      <td>16.704000</td>\n",
       "    </tr>\n",
       "    <tr>\n",
       "      <th>2019-01-01</th>\n",
       "      <td>17.545334</td>\n",
       "      <td>16.964001</td>\n",
       "      <td>17.313999</td>\n",
       "      <td>17.361334</td>\n",
       "      <td>55150500.0</td>\n",
       "      <td>17.361334</td>\n",
       "    </tr>\n",
       "    <tr>\n",
       "      <th>2019-04-01</th>\n",
       "      <td>12.445333</td>\n",
       "      <td>11.799333</td>\n",
       "      <td>12.073333</td>\n",
       "      <td>11.931333</td>\n",
       "      <td>76897500.0</td>\n",
       "      <td>11.931333</td>\n",
       "    </tr>\n",
       "    <tr>\n",
       "      <th>2019-07-01</th>\n",
       "      <td>14.334667</td>\n",
       "      <td>14.066667</td>\n",
       "      <td>14.240000</td>\n",
       "      <td>14.093333</td>\n",
       "      <td>48382500.0</td>\n",
       "      <td>14.093333</td>\n",
       "    </tr>\n",
       "    <tr>\n",
       "      <th>2019-10-01</th>\n",
       "      <td>15.632000</td>\n",
       "      <td>14.952000</td>\n",
       "      <td>15.320000</td>\n",
       "      <td>15.428667</td>\n",
       "      <td>36984000.0</td>\n",
       "      <td>15.428667</td>\n",
       "    </tr>\n",
       "    <tr>\n",
       "      <th>2020-01-01</th>\n",
       "      <td>26.990667</td>\n",
       "      <td>23.367332</td>\n",
       "      <td>24.980000</td>\n",
       "      <td>24.081333</td>\n",
       "      <td>142981500.0</td>\n",
       "      <td>24.081333</td>\n",
       "    </tr>\n",
       "    <tr>\n",
       "      <th>2020-04-01</th>\n",
       "      <td>32.950668</td>\n",
       "      <td>29.760000</td>\n",
       "      <td>32.068668</td>\n",
       "      <td>30.298000</td>\n",
       "      <td>95436000.0</td>\n",
       "      <td>30.298000</td>\n",
       "    </tr>\n",
       "    <tr>\n",
       "      <th>2020-07-01</th>\n",
       "      <td>75.688667</td>\n",
       "      <td>72.033333</td>\n",
       "      <td>72.199997</td>\n",
       "      <td>74.641998</td>\n",
       "      <td>74217000.0</td>\n",
       "      <td>74.641998</td>\n",
       "    </tr>\n",
       "    <tr>\n",
       "      <th>2020-10-01</th>\n",
       "      <td>135.660004</td>\n",
       "      <td>126.370003</td>\n",
       "      <td>131.333328</td>\n",
       "      <td>129.346664</td>\n",
       "      <td>52073100.0</td>\n",
       "      <td>129.346664</td>\n",
       "    </tr>\n",
       "    <tr>\n",
       "      <th>2021-01-01</th>\n",
       "      <td>205.493332</td>\n",
       "      <td>179.830002</td>\n",
       "      <td>200.183334</td>\n",
       "      <td>187.666672</td>\n",
       "      <td>45473100.0</td>\n",
       "      <td>187.666672</td>\n",
       "    </tr>\n",
       "    <tr>\n",
       "      <th>2021-04-01</th>\n",
       "      <td>188.736664</td>\n",
       "      <td>182.326660</td>\n",
       "      <td>184.183334</td>\n",
       "      <td>187.820007</td>\n",
       "      <td>48615900.0</td>\n",
       "      <td>187.820007</td>\n",
       "    </tr>\n",
       "    <tr>\n",
       "      <th>2021-07-01</th>\n",
       "      <td>215.733337</td>\n",
       "      <td>206.820007</td>\n",
       "      <td>209.456665</td>\n",
       "      <td>214.460007</td>\n",
       "      <td>29401800.0</td>\n",
       "      <td>214.460007</td>\n",
       "    </tr>\n",
       "    <tr>\n",
       "      <th>2021-10-01</th>\n",
       "      <td>260.260010</td>\n",
       "      <td>254.529999</td>\n",
       "      <td>258.733337</td>\n",
       "      <td>258.406677</td>\n",
       "      <td>35042700.0</td>\n",
       "      <td>258.406677</td>\n",
       "    </tr>\n",
       "    <tr>\n",
       "      <th>2022-01-01</th>\n",
       "      <td>266.899994</td>\n",
       "      <td>233.333328</td>\n",
       "      <td>233.463333</td>\n",
       "      <td>254.679993</td>\n",
       "      <td>48992700.0</td>\n",
       "      <td>254.679993</td>\n",
       "    </tr>\n",
       "    <tr>\n",
       "      <th>2022-04-01</th>\n",
       "      <td>217.973328</td>\n",
       "      <td>206.856674</td>\n",
       "      <td>207.949997</td>\n",
       "      <td>209.386673</td>\n",
       "      <td>49847700.0</td>\n",
       "      <td>209.386673</td>\n",
       "    </tr>\n",
       "    <tr>\n",
       "      <th>2022-07-01</th>\n",
       "      <td>230.229996</td>\n",
       "      <td>216.166672</td>\n",
       "      <td>223.000000</td>\n",
       "      <td>227.263336</td>\n",
       "      <td>41864700.0</td>\n",
       "      <td>227.263336</td>\n",
       "    </tr>\n",
       "  </tbody>\n",
       "</table>\n",
       "</div>"
      ],
      "text/plain": [
       "                  High         Low        Open       Close       Volume  \\\n",
       "Date                                                                      \n",
       "2017-07-01   22.850000   22.360001   22.658667   22.639999   69273000.0   \n",
       "2017-10-01   20.297333   19.508667   19.966667   19.950666   48661500.0   \n",
       "2018-01-01   17.912001   16.547333   17.099333   17.185333   48294000.0   \n",
       "2018-04-01   17.355333   16.306000   16.851999   16.832001   58126500.0   \n",
       "2018-07-01   17.889999   16.816668   17.340000   17.549334   54039000.0   \n",
       "2018-10-01   17.457333   16.518000   17.016666   16.704000   46210500.0   \n",
       "2019-01-01   17.545334   16.964001   17.313999   17.361334   55150500.0   \n",
       "2019-04-01   12.445333   11.799333   12.073333   11.931333   76897500.0   \n",
       "2019-07-01   14.334667   14.066667   14.240000   14.093333   48382500.0   \n",
       "2019-10-01   15.632000   14.952000   15.320000   15.428667   36984000.0   \n",
       "2020-01-01   26.990667   23.367332   24.980000   24.081333  142981500.0   \n",
       "2020-04-01   32.950668   29.760000   32.068668   30.298000   95436000.0   \n",
       "2020-07-01   75.688667   72.033333   72.199997   74.641998   74217000.0   \n",
       "2020-10-01  135.660004  126.370003  131.333328  129.346664   52073100.0   \n",
       "2021-01-01  205.493332  179.830002  200.183334  187.666672   45473100.0   \n",
       "2021-04-01  188.736664  182.326660  184.183334  187.820007   48615900.0   \n",
       "2021-07-01  215.733337  206.820007  209.456665  214.460007   29401800.0   \n",
       "2021-10-01  260.260010  254.529999  258.733337  258.406677   35042700.0   \n",
       "2022-01-01  266.899994  233.333328  233.463333  254.679993   48992700.0   \n",
       "2022-04-01  217.973328  206.856674  207.949997  209.386673   49847700.0   \n",
       "2022-07-01  230.229996  216.166672  223.000000  227.263336   41864700.0   \n",
       "\n",
       "             Adj Close  \n",
       "Date                    \n",
       "2017-07-01   22.639999  \n",
       "2017-10-01   19.950666  \n",
       "2018-01-01   17.185333  \n",
       "2018-04-01   16.832001  \n",
       "2018-07-01   17.549334  \n",
       "2018-10-01   16.704000  \n",
       "2019-01-01   17.361334  \n",
       "2019-04-01   11.931333  \n",
       "2019-07-01   14.093333  \n",
       "2019-10-01   15.428667  \n",
       "2020-01-01   24.081333  \n",
       "2020-04-01   30.298000  \n",
       "2020-07-01   74.641998  \n",
       "2020-10-01  129.346664  \n",
       "2021-01-01  187.666672  \n",
       "2021-04-01  187.820007  \n",
       "2021-07-01  214.460007  \n",
       "2021-10-01  258.406677  \n",
       "2022-01-01  254.679993  \n",
       "2022-04-01  209.386673  \n",
       "2022-07-01  227.263336  "
      ]
     },
     "execution_count": 66,
     "metadata": {},
     "output_type": "execute_result"
    }
   ],
   "source": [
    "data.resample(rule=\"QS\").min()"
   ]
  },
  {
   "cell_type": "code",
   "execution_count": 64,
   "id": "401ee669",
   "metadata": {},
   "outputs": [
    {
     "data": {
      "text/plain": [
       "<AxesSubplot:xlabel='Date'>"
      ]
     },
     "execution_count": 64,
     "metadata": {},
     "output_type": "execute_result"
    },
    {
     "data": {
      "image/png": "[encoded data removed]",
      "text/plain": [
       "<Figure size 432x288 with 1 Axes>"
      ]
     },
     "metadata": {
      "needs_background": "light"
     },
     "output_type": "display_data"
    }
   ],
   "source": [
    "# QS = quartly start frequency\n",
    "data.resample(rule=\"QS\").min()[\"Open\"].plot()"
   ]
  },
  {
   "cell_type": "code",
   "execution_count": 67,
   "id": "bdc5fde3",
   "metadata": {},
   "outputs": [
    {
     "data": {
      "text/html": [
       "<div>\n",
       "<style scoped>\n",
       "    .dataframe tbody tr th:only-of-type {\n",
       "        vertical-align: middle;\n",
       "    }\n",
       "\n",
       "    .dataframe tbody tr th {\n",
       "        vertical-align: top;\n",
       "    }\n",
       "\n",
       "    .dataframe thead th {\n",
       "        text-align: right;\n",
       "    }\n",
       "</style>\n",
       "<table border=\"1\" class=\"dataframe\">\n",
       "  <thead>\n",
       "    <tr style=\"text-align: right;\">\n",
       "      <th></th>\n",
       "      <th>High</th>\n",
       "      <th>Low</th>\n",
       "      <th>Open</th>\n",
       "      <th>Close</th>\n",
       "      <th>Volume</th>\n",
       "      <th>Adj Close</th>\n",
       "    </tr>\n",
       "    <tr>\n",
       "      <th>Date</th>\n",
       "      <th></th>\n",
       "      <th></th>\n",
       "      <th></th>\n",
       "      <th></th>\n",
       "      <th></th>\n",
       "      <th></th>\n",
       "    </tr>\n",
       "  </thead>\n",
       "  <tbody>\n",
       "    <tr>\n",
       "      <th>2017-07-01</th>\n",
       "      <td>25.974001</td>\n",
       "      <td>25.178667</td>\n",
       "      <td>25.350000</td>\n",
       "      <td>25.666668</td>\n",
       "      <td>122391000.0</td>\n",
       "      <td>25.666668</td>\n",
       "    </tr>\n",
       "    <tr>\n",
       "      <th>2017-10-01</th>\n",
       "      <td>24.200001</td>\n",
       "      <td>23.608667</td>\n",
       "      <td>23.798668</td>\n",
       "      <td>23.976667</td>\n",
       "      <td>296871000.0</td>\n",
       "      <td>23.976667</td>\n",
       "    </tr>\n",
       "    <tr>\n",
       "      <th>2018-01-01</th>\n",
       "      <td>24.033333</td>\n",
       "      <td>23.490667</td>\n",
       "      <td>24.000000</td>\n",
       "      <td>23.827999</td>\n",
       "      <td>315021000.0</td>\n",
       "      <td>23.827999</td>\n",
       "    </tr>\n",
       "    <tr>\n",
       "      <th>2018-04-01</th>\n",
       "      <td>24.915333</td>\n",
       "      <td>23.633333</td>\n",
       "      <td>24.344000</td>\n",
       "      <td>24.722000</td>\n",
       "      <td>335211000.0</td>\n",
       "      <td>24.722000</td>\n",
       "    </tr>\n",
       "    <tr>\n",
       "      <th>2018-07-01</th>\n",
       "      <td>25.830667</td>\n",
       "      <td>24.474667</td>\n",
       "      <td>24.606001</td>\n",
       "      <td>25.304667</td>\n",
       "      <td>504745500.0</td>\n",
       "      <td>25.304667</td>\n",
       "    </tr>\n",
       "    <tr>\n",
       "      <th>2018-10-01</th>\n",
       "      <td>25.299334</td>\n",
       "      <td>24.450001</td>\n",
       "      <td>25.000000</td>\n",
       "      <td>25.119333</td>\n",
       "      <td>411382500.0</td>\n",
       "      <td>25.119333</td>\n",
       "    </tr>\n",
       "    <tr>\n",
       "      <th>2019-01-01</th>\n",
       "      <td>23.466667</td>\n",
       "      <td>22.943333</td>\n",
       "      <td>23.080667</td>\n",
       "      <td>23.153999</td>\n",
       "      <td>362262000.0</td>\n",
       "      <td>23.153999</td>\n",
       "    </tr>\n",
       "    <tr>\n",
       "      <th>2019-04-01</th>\n",
       "      <td>19.744667</td>\n",
       "      <td>19.144667</td>\n",
       "      <td>19.219999</td>\n",
       "      <td>19.454000</td>\n",
       "      <td>398206500.0</td>\n",
       "      <td>19.454000</td>\n",
       "    </tr>\n",
       "    <tr>\n",
       "      <th>2019-07-01</th>\n",
       "      <td>17.738001</td>\n",
       "      <td>17.210667</td>\n",
       "      <td>17.278000</td>\n",
       "      <td>17.658667</td>\n",
       "      <td>336274500.0</td>\n",
       "      <td>17.658667</td>\n",
       "    </tr>\n",
       "    <tr>\n",
       "      <th>2019-10-01</th>\n",
       "      <td>29.020666</td>\n",
       "      <td>28.423332</td>\n",
       "      <td>29.000000</td>\n",
       "      <td>28.729334</td>\n",
       "      <td>450091500.0</td>\n",
       "      <td>28.729334</td>\n",
       "    </tr>\n",
       "    <tr>\n",
       "      <th>2020-01-01</th>\n",
       "      <td>64.599335</td>\n",
       "      <td>60.068001</td>\n",
       "      <td>61.566666</td>\n",
       "      <td>61.161331</td>\n",
       "      <td>914082000.0</td>\n",
       "      <td>61.161331</td>\n",
       "    </tr>\n",
       "    <tr>\n",
       "      <th>2020-04-01</th>\n",
       "      <td>72.512665</td>\n",
       "      <td>66.915337</td>\n",
       "      <td>67.518669</td>\n",
       "      <td>71.987335</td>\n",
       "      <td>487977000.0</td>\n",
       "      <td>71.987335</td>\n",
       "    </tr>\n",
       "    <tr>\n",
       "      <th>2020-07-01</th>\n",
       "      <td>167.496674</td>\n",
       "      <td>156.836670</td>\n",
       "      <td>167.380005</td>\n",
       "      <td>166.106674</td>\n",
       "      <td>584781000.0</td>\n",
       "      <td>166.106674</td>\n",
       "    </tr>\n",
       "    <tr>\n",
       "      <th>2020-10-01</th>\n",
       "      <td>239.573334</td>\n",
       "      <td>230.373337</td>\n",
       "      <td>233.330002</td>\n",
       "      <td>235.223328</td>\n",
       "      <td>666378600.0</td>\n",
       "      <td>235.223328</td>\n",
       "    </tr>\n",
       "    <tr>\n",
       "      <th>2021-01-01</th>\n",
       "      <td>300.133331</td>\n",
       "      <td>290.533325</td>\n",
       "      <td>297.126678</td>\n",
       "      <td>294.363342</td>\n",
       "      <td>268189500.0</td>\n",
       "      <td>294.363342</td>\n",
       "    </tr>\n",
       "    <tr>\n",
       "      <th>2021-04-01</th>\n",
       "      <td>260.263336</td>\n",
       "      <td>244.203339</td>\n",
       "      <td>256.899994</td>\n",
       "      <td>254.106674</td>\n",
       "      <td>147052200.0</td>\n",
       "      <td>254.106674</td>\n",
       "    </tr>\n",
       "    <tr>\n",
       "      <th>2021-07-01</th>\n",
       "      <td>266.333344</td>\n",
       "      <td>258.333344</td>\n",
       "      <td>262.399994</td>\n",
       "      <td>263.786682</td>\n",
       "      <td>100847400.0</td>\n",
       "      <td>263.786682</td>\n",
       "    </tr>\n",
       "    <tr>\n",
       "      <th>2021-10-01</th>\n",
       "      <td>414.496674</td>\n",
       "      <td>405.666656</td>\n",
       "      <td>411.470001</td>\n",
       "      <td>409.970001</td>\n",
       "      <td>188556300.0</td>\n",
       "      <td>409.970001</td>\n",
       "    </tr>\n",
       "    <tr>\n",
       "      <th>2022-01-01</th>\n",
       "      <td>402.666656</td>\n",
       "      <td>378.679993</td>\n",
       "      <td>396.516663</td>\n",
       "      <td>399.926666</td>\n",
       "      <td>151565700.0</td>\n",
       "      <td>399.926666</td>\n",
       "    </tr>\n",
       "    <tr>\n",
       "      <th>2022-04-01</th>\n",
       "      <td>384.290009</td>\n",
       "      <td>362.433319</td>\n",
       "      <td>378.766663</td>\n",
       "      <td>381.816681</td>\n",
       "      <td>144973200.0</td>\n",
       "      <td>381.816681</td>\n",
       "    </tr>\n",
       "    <tr>\n",
       "      <th>2022-07-01</th>\n",
       "      <td>314.666656</td>\n",
       "      <td>305.000000</td>\n",
       "      <td>311.666656</td>\n",
       "      <td>309.320007</td>\n",
       "      <td>142032300.0</td>\n",
       "      <td>309.320007</td>\n",
       "    </tr>\n",
       "  </tbody>\n",
       "</table>\n",
       "</div>"
      ],
      "text/plain": [
       "                  High         Low        Open       Close       Volume  \\\n",
       "Date                                                                      \n",
       "2017-07-01   25.974001   25.178667   25.350000   25.666668  122391000.0   \n",
       "2017-10-01   24.200001   23.608667   23.798668   23.976667  296871000.0   \n",
       "2018-01-01   24.033333   23.490667   24.000000   23.827999  315021000.0   \n",
       "2018-04-01   24.915333   23.633333   24.344000   24.722000  335211000.0   \n",
       "2018-07-01   25.830667   24.474667   24.606001   25.304667  504745500.0   \n",
       "2018-10-01   25.299334   24.450001   25.000000   25.119333  411382500.0   \n",
       "2019-01-01   23.466667   22.943333   23.080667   23.153999  362262000.0   \n",
       "2019-04-01   19.744667   19.144667   19.219999   19.454000  398206500.0   \n",
       "2019-07-01   17.738001   17.210667   17.278000   17.658667  336274500.0   \n",
       "2019-10-01   29.020666   28.423332   29.000000   28.729334  450091500.0   \n",
       "2020-01-01   64.599335   60.068001   61.566666   61.161331  914082000.0   \n",
       "2020-04-01   72.512665   66.915337   67.518669   71.987335  487977000.0   \n",
       "2020-07-01  167.496674  156.836670  167.380005  166.106674  584781000.0   \n",
       "2020-10-01  239.573334  230.373337  233.330002  235.223328  666378600.0   \n",
       "2021-01-01  300.133331  290.533325  297.126678  294.363342  268189500.0   \n",
       "2021-04-01  260.263336  244.203339  256.899994  254.106674  147052200.0   \n",
       "2021-07-01  266.333344  258.333344  262.399994  263.786682  100847400.0   \n",
       "2021-10-01  414.496674  405.666656  411.470001  409.970001  188556300.0   \n",
       "2022-01-01  402.666656  378.679993  396.516663  399.926666  151565700.0   \n",
       "2022-04-01  384.290009  362.433319  378.766663  381.816681  144973200.0   \n",
       "2022-07-01  314.666656  305.000000  311.666656  309.320007  142032300.0   \n",
       "\n",
       "             Adj Close  \n",
       "Date                    \n",
       "2017-07-01   25.666668  \n",
       "2017-10-01   23.976667  \n",
       "2018-01-01   23.827999  \n",
       "2018-04-01   24.722000  \n",
       "2018-07-01   25.304667  \n",
       "2018-10-01   25.119333  \n",
       "2019-01-01   23.153999  \n",
       "2019-04-01   19.454000  \n",
       "2019-07-01   17.658667  \n",
       "2019-10-01   28.729334  \n",
       "2020-01-01   61.161331  \n",
       "2020-04-01   71.987335  \n",
       "2020-07-01  166.106674  \n",
       "2020-10-01  235.223328  \n",
       "2021-01-01  294.363342  \n",
       "2021-04-01  254.106674  \n",
       "2021-07-01  263.786682  \n",
       "2021-10-01  409.970001  \n",
       "2022-01-01  399.926666  \n",
       "2022-04-01  381.816681  \n",
       "2022-07-01  309.320007  "
      ]
     },
     "execution_count": 67,
     "metadata": {},
     "output_type": "execute_result"
    }
   ],
   "source": [
    "data.resample(rule=\"QS\").max()"
   ]
  },
  {
   "cell_type": "code",
   "execution_count": 65,
   "id": "96029644",
   "metadata": {},
   "outputs": [
    {
     "data": {
      "text/plain": [
       "<AxesSubplot:xlabel='Date'>"
      ]
     },
     "execution_count": 65,
     "metadata": {},
     "output_type": "execute_result"
    },
    {
     "data": {
      "image/png": "[encoded data removed]",
      "text/plain": [
       "<Figure size 432x288 with 1 Axes>"
      ]
     },
     "metadata": {
      "needs_background": "light"
     },
     "output_type": "display_data"
    }
   ],
   "source": [
    "data.resample(rule=\"QS\").max()[\"Open\"].plot()"
   ]
  },
  {
   "cell_type": "markdown",
   "id": "04c64eb5",
   "metadata": {},
   "source": [
    "## Plotting"
   ]
  },
  {
   "cell_type": "code",
   "execution_count": 70,
   "id": "8b17c68a",
   "metadata": {},
   "outputs": [
    {
     "data": {
      "text/plain": [
       "<AxesSubplot:xlabel='Date'>"
      ]
     },
     "execution_count": 70,
     "metadata": {},
     "output_type": "execute_result"
    },
    {
     "data": {
      "image/png": "[encoded data removed]",
      "text/plain": [
       "<Figure size 432x288 with 1 Axes>"
      ]
     },
     "metadata": {
      "needs_background": "light"
     },
     "output_type": "display_data"
    }
   ],
   "source": [
    "data[\"Open\"].resample(rule=\"BA\").mean().plot(kind=\"bar\")"
   ]
  },
  {
   "cell_type": "code",
   "execution_count": 71,
   "id": "175dc73b",
   "metadata": {},
   "outputs": [
    {
     "data": {
      "text/plain": [
       "<AxesSubplot:xlabel='Date'>"
      ]
     },
     "execution_count": 71,
     "metadata": {},
     "output_type": "execute_result"
    },
    {
     "data": {
      "image/png": "[encoded data removed]",
      "text/plain": [
       "<Figure size 432x288 with 1 Axes>"
      ]
     },
     "metadata": {
      "needs_background": "light"
     },
     "output_type": "display_data"
    }
   ],
   "source": [
    "data[\"Close\"].resample(rule=\"BA\").mean().plot(kind=\"bar\")"
   ]
  },
  {
   "cell_type": "code",
   "execution_count": 73,
   "id": "5e9d1c98",
   "metadata": {},
   "outputs": [
    {
     "data": {
      "text/plain": [
       "<AxesSubplot:xlabel='Date'>"
      ]
     },
     "execution_count": 73,
     "metadata": {},
     "output_type": "execute_result"
    },
    {
     "data": {
      "image/png": "[encoded data removed]",
      "text/plain": [
       "<Figure size 1080x432 with 1 Axes>"
      ]
     },
     "metadata": {
      "needs_background": "light"
     },
     "output_type": "display_data"
    }
   ],
   "source": [
    "data[\"Open\"].resample(rule=\"M\").max().plot(kind=\"bar\", figsize=(15, 6))"
   ]
  },
  {
   "cell_type": "markdown",
   "id": "da57b28a",
   "metadata": {},
   "source": [
    "### rolling"
   ]
  },
  {
   "cell_type": "code",
   "execution_count": 74,
   "id": "4cec535d",
   "metadata": {},
   "outputs": [
    {
     "data": {
      "text/plain": [
       "Date\n",
       "2017-09-15           NaN\n",
       "2017-09-18           NaN\n",
       "2017-09-19           NaN\n",
       "2017-09-20           NaN\n",
       "2017-09-21           NaN\n",
       "                 ...    \n",
       "2022-09-08    291.027496\n",
       "2022-09-09    290.785330\n",
       "2022-09-12    291.350497\n",
       "2022-09-13    290.906163\n",
       "2022-09-14    289.934830\n",
       "Name: Open, Length: 1258, dtype: float64"
      ]
     },
     "execution_count": 74,
     "metadata": {},
     "output_type": "execute_result"
    }
   ],
   "source": [
    "data[\"Open\"].rolling(20).mean()"
   ]
  },
  {
   "cell_type": "code",
   "execution_count": 78,
   "id": "f1fea15d",
   "metadata": {},
   "outputs": [],
   "source": [
    "data[\"open:20 days rolling\"] = data[\"Open\"].rolling(20).mean()"
   ]
  },
  {
   "cell_type": "code",
   "execution_count": 80,
   "id": "109b8d12",
   "metadata": {},
   "outputs": [
    {
     "data": {
      "text/html": [
       "<div>\n",
       "<style scoped>\n",
       "    .dataframe tbody tr th:only-of-type {\n",
       "        vertical-align: middle;\n",
       "    }\n",
       "\n",
       "    .dataframe tbody tr th {\n",
       "        vertical-align: top;\n",
       "    }\n",
       "\n",
       "    .dataframe thead th {\n",
       "        text-align: right;\n",
       "    }\n",
       "</style>\n",
       "<table border=\"1\" class=\"dataframe\">\n",
       "  <thead>\n",
       "    <tr style=\"text-align: right;\">\n",
       "      <th></th>\n",
       "      <th>High</th>\n",
       "      <th>Low</th>\n",
       "      <th>Open</th>\n",
       "      <th>Close</th>\n",
       "      <th>Volume</th>\n",
       "      <th>Adj Close</th>\n",
       "      <th>open:20 days rolling</th>\n",
       "    </tr>\n",
       "    <tr>\n",
       "      <th>Date</th>\n",
       "      <th></th>\n",
       "      <th></th>\n",
       "      <th></th>\n",
       "      <th></th>\n",
       "      <th></th>\n",
       "      <th></th>\n",
       "      <th></th>\n",
       "    </tr>\n",
       "  </thead>\n",
       "  <tbody>\n",
       "    <tr>\n",
       "      <th>2017-09-15</th>\n",
       "      <td>25.333332</td>\n",
       "      <td>24.846666</td>\n",
       "      <td>24.967333</td>\n",
       "      <td>25.320667</td>\n",
       "      <td>81307500.0</td>\n",
       "      <td>25.320667</td>\n",
       "      <td>NaN</td>\n",
       "    </tr>\n",
       "    <tr>\n",
       "      <th>2017-09-18</th>\n",
       "      <td>25.974001</td>\n",
       "      <td>25.178667</td>\n",
       "      <td>25.350000</td>\n",
       "      <td>25.666668</td>\n",
       "      <td>107820000.0</td>\n",
       "      <td>25.666668</td>\n",
       "      <td>NaN</td>\n",
       "    </tr>\n",
       "    <tr>\n",
       "      <th>2017-09-19</th>\n",
       "      <td>25.492666</td>\n",
       "      <td>24.904667</td>\n",
       "      <td>25.333332</td>\n",
       "      <td>25.006666</td>\n",
       "      <td>96778500.0</td>\n",
       "      <td>25.006666</td>\n",
       "      <td>NaN</td>\n",
       "    </tr>\n",
       "    <tr>\n",
       "      <th>2017-09-20</th>\n",
       "      <td>25.216667</td>\n",
       "      <td>24.738001</td>\n",
       "      <td>24.866667</td>\n",
       "      <td>24.927334</td>\n",
       "      <td>73786500.0</td>\n",
       "      <td>24.927334</td>\n",
       "      <td>NaN</td>\n",
       "    </tr>\n",
       "    <tr>\n",
       "      <th>2017-09-21</th>\n",
       "      <td>25.122000</td>\n",
       "      <td>24.300667</td>\n",
       "      <td>24.993334</td>\n",
       "      <td>24.431999</td>\n",
       "      <td>69273000.0</td>\n",
       "      <td>24.431999</td>\n",
       "      <td>NaN</td>\n",
       "    </tr>\n",
       "    <tr>\n",
       "      <th>2017-09-22</th>\n",
       "      <td>24.660000</td>\n",
       "      <td>23.392000</td>\n",
       "      <td>24.432667</td>\n",
       "      <td>23.406000</td>\n",
       "      <td>122391000.0</td>\n",
       "      <td>23.406000</td>\n",
       "      <td>NaN</td>\n",
       "    </tr>\n",
       "    <tr>\n",
       "      <th>2017-09-25</th>\n",
       "      <td>23.831333</td>\n",
       "      <td>22.858667</td>\n",
       "      <td>23.543333</td>\n",
       "      <td>22.999332</td>\n",
       "      <td>114088500.0</td>\n",
       "      <td>22.999332</td>\n",
       "      <td>NaN</td>\n",
       "    </tr>\n",
       "    <tr>\n",
       "      <th>2017-09-26</th>\n",
       "      <td>23.416000</td>\n",
       "      <td>22.726667</td>\n",
       "      <td>23.395332</td>\n",
       "      <td>23.016666</td>\n",
       "      <td>107344500.0</td>\n",
       "      <td>23.016666</td>\n",
       "      <td>NaN</td>\n",
       "    </tr>\n",
       "    <tr>\n",
       "      <th>2017-09-27</th>\n",
       "      <td>23.432667</td>\n",
       "      <td>22.700001</td>\n",
       "      <td>23.326668</td>\n",
       "      <td>22.731333</td>\n",
       "      <td>90904500.0</td>\n",
       "      <td>22.731333</td>\n",
       "      <td>NaN</td>\n",
       "    </tr>\n",
       "    <tr>\n",
       "      <th>2017-09-28</th>\n",
       "      <td>22.850000</td>\n",
       "      <td>22.360001</td>\n",
       "      <td>22.658667</td>\n",
       "      <td>22.639999</td>\n",
       "      <td>79794000.0</td>\n",
       "      <td>22.639999</td>\n",
       "      <td>NaN</td>\n",
       "    </tr>\n",
       "    <tr>\n",
       "      <th>2017-09-29</th>\n",
       "      <td>22.978666</td>\n",
       "      <td>22.573334</td>\n",
       "      <td>22.790667</td>\n",
       "      <td>22.740000</td>\n",
       "      <td>76606500.0</td>\n",
       "      <td>22.740000</td>\n",
       "      <td>NaN</td>\n",
       "    </tr>\n",
       "    <tr>\n",
       "      <th>2017-10-02</th>\n",
       "      <td>22.913334</td>\n",
       "      <td>22.367332</td>\n",
       "      <td>22.834667</td>\n",
       "      <td>22.768667</td>\n",
       "      <td>79302000.0</td>\n",
       "      <td>22.768667</td>\n",
       "      <td>NaN</td>\n",
       "    </tr>\n",
       "    <tr>\n",
       "      <th>2017-10-03</th>\n",
       "      <td>23.236668</td>\n",
       "      <td>22.085333</td>\n",
       "      <td>22.393333</td>\n",
       "      <td>23.209333</td>\n",
       "      <td>152304000.0</td>\n",
       "      <td>23.209333</td>\n",
       "      <td>NaN</td>\n",
       "    </tr>\n",
       "    <tr>\n",
       "      <th>2017-10-04</th>\n",
       "      <td>23.908001</td>\n",
       "      <td>23.306667</td>\n",
       "      <td>23.416668</td>\n",
       "      <td>23.667334</td>\n",
       "      <td>122452500.0</td>\n",
       "      <td>23.667334</td>\n",
       "      <td>NaN</td>\n",
       "    </tr>\n",
       "    <tr>\n",
       "      <th>2017-10-05</th>\n",
       "      <td>23.829332</td>\n",
       "      <td>23.423332</td>\n",
       "      <td>23.733334</td>\n",
       "      <td>23.688667</td>\n",
       "      <td>62575500.0</td>\n",
       "      <td>23.688667</td>\n",
       "      <td>NaN</td>\n",
       "    </tr>\n",
       "    <tr>\n",
       "      <th>2017-10-06</th>\n",
       "      <td>24.006666</td>\n",
       "      <td>23.483334</td>\n",
       "      <td>23.540001</td>\n",
       "      <td>23.792000</td>\n",
       "      <td>64462500.0</td>\n",
       "      <td>23.792000</td>\n",
       "      <td>NaN</td>\n",
       "    </tr>\n",
       "    <tr>\n",
       "      <th>2017-10-09</th>\n",
       "      <td>23.450001</td>\n",
       "      <td>22.844667</td>\n",
       "      <td>23.309999</td>\n",
       "      <td>22.862667</td>\n",
       "      <td>112405500.0</td>\n",
       "      <td>22.862667</td>\n",
       "      <td>NaN</td>\n",
       "    </tr>\n",
       "    <tr>\n",
       "      <th>2017-10-10</th>\n",
       "      <td>23.708668</td>\n",
       "      <td>23.035334</td>\n",
       "      <td>23.120001</td>\n",
       "      <td>23.705999</td>\n",
       "      <td>104677500.0</td>\n",
       "      <td>23.705999</td>\n",
       "      <td>NaN</td>\n",
       "    </tr>\n",
       "    <tr>\n",
       "      <th>2017-10-11</th>\n",
       "      <td>23.840000</td>\n",
       "      <td>23.410000</td>\n",
       "      <td>23.592667</td>\n",
       "      <td>23.639999</td>\n",
       "      <td>67512000.0</td>\n",
       "      <td>23.639999</td>\n",
       "      <td>NaN</td>\n",
       "    </tr>\n",
       "    <tr>\n",
       "      <th>2017-10-12</th>\n",
       "      <td>23.985332</td>\n",
       "      <td>23.509333</td>\n",
       "      <td>23.530001</td>\n",
       "      <td>23.712000</td>\n",
       "      <td>61305000.0</td>\n",
       "      <td>23.712000</td>\n",
       "      <td>23.756433</td>\n",
       "    </tr>\n",
       "    <tr>\n",
       "      <th>2017-10-13</th>\n",
       "      <td>23.899332</td>\n",
       "      <td>23.578667</td>\n",
       "      <td>23.798668</td>\n",
       "      <td>23.704666</td>\n",
       "      <td>53107500.0</td>\n",
       "      <td>23.704666</td>\n",
       "      <td>23.698000</td>\n",
       "    </tr>\n",
       "    <tr>\n",
       "      <th>2017-10-16</th>\n",
       "      <td>23.632000</td>\n",
       "      <td>23.143999</td>\n",
       "      <td>23.584000</td>\n",
       "      <td>23.373333</td>\n",
       "      <td>80632500.0</td>\n",
       "      <td>23.373333</td>\n",
       "      <td>23.609700</td>\n",
       "    </tr>\n",
       "  </tbody>\n",
       "</table>\n",
       "</div>"
      ],
      "text/plain": [
       "                 High        Low       Open      Close       Volume  \\\n",
       "Date                                                                  \n",
       "2017-09-15  25.333332  24.846666  24.967333  25.320667   81307500.0   \n",
       "2017-09-18  25.974001  25.178667  25.350000  25.666668  107820000.0   \n",
       "2017-09-19  25.492666  24.904667  25.333332  25.006666   96778500.0   \n",
       "2017-09-20  25.216667  24.738001  24.866667  24.927334   73786500.0   \n",
       "2017-09-21  25.122000  24.300667  24.993334  24.431999   69273000.0   \n",
       "2017-09-22  24.660000  23.392000  24.432667  23.406000  122391000.0   \n",
       "2017-09-25  23.831333  22.858667  23.543333  22.999332  114088500.0   \n",
       "2017-09-26  23.416000  22.726667  23.395332  23.016666  107344500.0   \n",
       "2017-09-27  23.432667  22.700001  23.326668  22.731333   90904500.0   \n",
       "2017-09-28  22.850000  22.360001  22.658667  22.639999   79794000.0   \n",
       "2017-09-29  22.978666  22.573334  22.790667  22.740000   76606500.0   \n",
       "2017-10-02  22.913334  22.367332  22.834667  22.768667   79302000.0   \n",
       "2017-10-03  23.236668  22.085333  22.393333  23.209333  152304000.0   \n",
       "2017-10-04  23.908001  23.306667  23.416668  23.667334  122452500.0   \n",
       "2017-10-05  23.829332  23.423332  23.733334  23.688667   62575500.0   \n",
       "2017-10-06  24.006666  23.483334  23.540001  23.792000   64462500.0   \n",
       "2017-10-09  23.450001  22.844667  23.309999  22.862667  112405500.0   \n",
       "2017-10-10  23.708668  23.035334  23.120001  23.705999  104677500.0   \n",
       "2017-10-11  23.840000  23.410000  23.592667  23.639999   67512000.0   \n",
       "2017-10-12  23.985332  23.509333  23.530001  23.712000   61305000.0   \n",
       "2017-10-13  23.899332  23.578667  23.798668  23.704666   53107500.0   \n",
       "2017-10-16  23.632000  23.143999  23.584000  23.373333   80632500.0   \n",
       "\n",
       "            Adj Close  open:20 days rolling  \n",
       "Date                                         \n",
       "2017-09-15  25.320667                   NaN  \n",
       "2017-09-18  25.666668                   NaN  \n",
       "2017-09-19  25.006666                   NaN  \n",
       "2017-09-20  24.927334                   NaN  \n",
       "2017-09-21  24.431999                   NaN  \n",
       "2017-09-22  23.406000                   NaN  \n",
       "2017-09-25  22.999332                   NaN  \n",
       "2017-09-26  23.016666                   NaN  \n",
       "2017-09-27  22.731333                   NaN  \n",
       "2017-09-28  22.639999                   NaN  \n",
       "2017-09-29  22.740000                   NaN  \n",
       "2017-10-02  22.768667                   NaN  \n",
       "2017-10-03  23.209333                   NaN  \n",
       "2017-10-04  23.667334                   NaN  \n",
       "2017-10-05  23.688667                   NaN  \n",
       "2017-10-06  23.792000                   NaN  \n",
       "2017-10-09  22.862667                   NaN  \n",
       "2017-10-10  23.705999                   NaN  \n",
       "2017-10-11  23.639999                   NaN  \n",
       "2017-10-12  23.712000             23.756433  \n",
       "2017-10-13  23.704666             23.698000  \n",
       "2017-10-16  23.373333             23.609700  "
      ]
     },
     "execution_count": 80,
     "metadata": {},
     "output_type": "execute_result"
    }
   ],
   "source": [
    "data.head(22)"
   ]
  },
  {
   "cell_type": "code",
   "execution_count": 82,
   "id": "2ac7d4ec",
   "metadata": {},
   "outputs": [
    {
     "data": {
      "text/plain": [
       "<AxesSubplot:xlabel='Date'>"
      ]
     },
     "execution_count": 82,
     "metadata": {},
     "output_type": "execute_result"
    },
    {
     "data": {
      "image/png": "[encoded data removed]",
      "text/plain": [
       "<Figure size 864x288 with 1 Axes>"
      ]
     },
     "metadata": {
      "needs_background": "light"
     },
     "output_type": "display_data"
    }
   ],
   "source": [
    "data[[\"Open\",\"open:20 days rolling\"]].plot(figsize=(12, 4))"
   ]
  },
  {
   "cell_type": "code",
   "execution_count": null,
   "id": "21ef4cea",
   "metadata": {},
   "outputs": [],
   "source": []
  }
 ],
 "metadata": {
  "kernelspec": {
   "display_name": "Python 3 (ipykernel)",
   "language": "python",
   "name": "python3"
  },
  "language_info": {
   "codemirror_mode": {
    "name": "ipython",
    "version": 3
   },
   "file_extension": ".py",
   "mimetype": "text/x-python",
   "name": "python",
   "nbconvert_exporter": "python",
   "pygments_lexer": "ipython3",
   "version": "3.10.2"
  }
 },
 "nbformat": 4,
 "nbformat_minor": 5
}
